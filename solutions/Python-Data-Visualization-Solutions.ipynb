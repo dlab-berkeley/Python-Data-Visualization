{
 "cells": [
  {
   "cell_type": "markdown",
   "metadata": {},
   "source": [
    "# Data Visualization using Python: Solutions"
   ]
  },
  {
   "cell_type": "markdown",
   "metadata": {},
   "source": [
    "## Import Packages"
   ]
  },
  {
   "cell_type": "code",
   "execution_count": null,
   "metadata": {},
   "outputs": [],
   "source": [
    "import numpy as np\n",
    "import pandas as pd\n",
    "import matplotlib as mpl\n",
    "import matplotlib.pyplot as plt\n",
    "\n",
    "from pyprojroot import here\n",
    "\n",
    "%matplotlib inline"
   ]
  },
  {
   "cell_type": "markdown",
   "metadata": {},
   "source": [
    "## Import the Data Set"
   ]
  },
  {
   "cell_type": "code",
   "execution_count": null,
   "metadata": {},
   "outputs": [],
   "source": [
    "gm = pd.read_csv(here('data/gapminder.tsv'), sep='\\t')"
   ]
  },
  {
   "cell_type": "markdown",
   "metadata": {},
   "source": [
    "## Challenge Questions: Histograms\n"
   ]
  },
  {
   "cell_type": "code",
   "execution_count": null,
   "metadata": {},
   "outputs": [],
   "source": [
    "latest_year = gm['year'].max()\n",
    "gm_latest = gm[gm['year'] == latest_year]"
   ]
  },
  {
   "cell_type": "markdown",
   "metadata": {},
   "source": [
    "1. Create a histogram of life expectancy in the year 2007 across all 142 countries in the gapminder dataset. Play with the `bins=` parameter to find the most informative bin number."
   ]
  },
  {
   "cell_type": "code",
   "execution_count": null,
   "metadata": {},
   "outputs": [],
   "source": [
    "# Try 17 bins\n",
    "plt.hist(gm_latest['lifeExp'], bins=17)\n",
    "plt.title('Distribution of Global Life Expectancy in 2007')\n",
    "plt.xlabel('Life Expectancy (Years)')\n",
    "plt.ylabel('# of Countries');"
   ]
  },
  {
   "cell_type": "code",
   "execution_count": null,
   "metadata": {},
   "outputs": [],
   "source": [
    "# Try 25 bins\n",
    "plt.hist(gm_latest['lifeExp'], bins=25)\n",
    "plt.title('Distribution of Global Life Expectancy in 2007')\n",
    "plt.xlabel('Life Expectancy (Years)')\n",
    "plt.ylabel('# of Countries');"
   ]
  },
  {
   "cell_type": "code",
   "execution_count": null,
   "metadata": {},
   "outputs": [],
   "source": [
    "# Try 10 bins\n",
    "plt.hist(gm_latest['lifeExp'], bins=10)\n",
    "plt.title('Distribution of Global Life Expectancy in 2007')\n",
    "plt.xlabel('Life Expectancy (Years)')\n",
    "plt.ylabel('# of Countries');"
   ]
  },
  {
   "cell_type": "markdown",
   "metadata": {},
   "source": [
    "2. What can you say about the distribution of life expectancy values in 2007?\n",
    "\n",
    "Three peaks: one at the lower end (around 50-60), one around 70, and one around 80. There are many countries with lower life expectancy, and another group with very high life expectancy."
   ]
  },
  {
   "cell_type": "markdown",
   "metadata": {},
   "source": [
    "## Challenge Questions: Bar Plots"
   ]
  },
  {
   "cell_type": "code",
   "execution_count": null,
   "metadata": {},
   "outputs": [],
   "source": [
    "countries = gm[['country', 'continent']]\n",
    "countries = countries.drop_duplicates()\n",
    "country_counts = countries.groupby('continent', as_index=False).agg('count')\n",
    "country_counts.columns = ['continent', 'n_countries']\n",
    "continents = country_counts['continent']"
   ]
  },
  {
   "cell_type": "code",
   "execution_count": null,
   "metadata": {},
   "outputs": [],
   "source": [
    "# Get the countries in Oceania in 2007\n",
    "gm_latest_oceania = gm_latest[gm_latest['continent'] == 'Oceania']\n",
    "gm_latest_oceania"
   ]
  },
  {
   "cell_type": "markdown",
   "metadata": {},
   "source": [
    "3. Create a bar plot showing the per-capita GDP for all the countries in Oceania during 2007."
   ]
  },
  {
   "cell_type": "code",
   "execution_count": null,
   "metadata": {},
   "outputs": [],
   "source": [
    "plt.bar(range(len(gm_latest_oceania)), gm_latest_oceania['gdpPercap'])\n",
    "plt.xticks(range(len(gm_latest_oceania)), gm_latest_oceania['country']);"
   ]
  },
  {
   "cell_type": "markdown",
   "metadata": {},
   "source": [
    "4. **\\[OPTIONAL\\]**. The above bar plot shows the counts of countries in each continent. We might be interested in the proportion of countries that exist in each of the 5 continents. Do a web search for `plt.pie` and figure out how to make a pie plot that displays proportions of all countries contained in each of the 5 continents."
   ]
  },
  {
   "cell_type": "code",
   "execution_count": null,
   "metadata": {},
   "outputs": [],
   "source": [
    "plt.pie(country_counts['n_countries'], labels=continents, autopct='%.01f')\n",
    "plt.title('Proportion of countries per continent.');"
   ]
  },
  {
   "cell_type": "markdown",
   "metadata": {},
   "source": [
    "## Challenge Questions: Boxplots"
   ]
  },
  {
   "cell_type": "markdown",
   "metadata": {},
   "source": [
    "5. Knowing how to interpret your plots is almost as important as knowing how to make them! Looking at the above box plot of per-capita GDP for each continent, what information do you take away from it? Where do you think the U.S.A is represented in this plot? And how could you confirm that?"
   ]
  },
  {
   "cell_type": "code",
   "execution_count": null,
   "metadata": {},
   "outputs": [],
   "source": [
    "gm_latest[gm_latest['country'] == 'United States']"
   ]
  },
  {
   "cell_type": "markdown",
   "metadata": {},
   "source": [
    "## Challenge Questions: Line Plots"
   ]
  },
  {
   "cell_type": "code",
   "execution_count": null,
   "metadata": {},
   "outputs": [],
   "source": [
    "portugal = gm[gm['country'] == 'Portugal']\n",
    "spain = gm[gm['country'] == 'Spain']"
   ]
  },
  {
   "cell_type": "markdown",
   "metadata": {},
   "source": [
    "6. Create another line plot showing the life expectancy for Spain and Portugal across all the years in the dataset similar to the one above, but try to add some customizations (e.g., changing the font sizes, different line colors, etc.). You can use the `help()` function to see what kind of customizations are available."
   ]
  },
  {
   "cell_type": "code",
   "execution_count": null,
   "metadata": {},
   "outputs": [],
   "source": [
    "plt.figure(figsize=(10, 5))\n",
    "plt.plot(spain['year'], spain['lifeExp'], label='Spain', color='blue')\n",
    "plt.plot(portugal['year'], portugal['lifeExp'], label='Portugal', color='green')\n",
    "plt.title('Life Expectancy of Portugal & Spain', fontsize=18)\n",
    "plt.xlabel('Time (Years)', fontsize=14)\n",
    "plt.ylabel('Life Expectancy (Years)', fontsize=14)\n",
    "plt.legend(prop={'size': 13});"
   ]
  },
  {
   "cell_type": "markdown",
   "metadata": {},
   "source": [
    "7. Does Spain or Portugal have a higher life expectancy across all the years? How does this relate to per-capita GDP? How might we look for a relationship?\n",
    "\n",
    "Spain has a higher life expectancy. We could create a line plot between life expectancy and per-capita GDP."
   ]
  },
  {
   "cell_type": "markdown",
   "metadata": {},
   "source": [
    "## Challenge Questions: Scatter Plots"
   ]
  },
  {
   "cell_type": "markdown",
   "metadata": {},
   "source": [
    "8. We've seen that life expectancy and per-capita GDP have a positive relationship. What about the relationship between population and per-capita GDP, is there one? Create a scatter plot that compares the two across all countries in 2007. "
   ]
  },
  {
   "cell_type": "code",
   "execution_count": null,
   "metadata": {},
   "outputs": [],
   "source": [
    "plt.scatter(np.log10(gm_latest['gdpPercap']), gm_latest['pop'], marker='.')\n",
    "plt.xlabel('Per-Capita GDP (Millions $USD)')\n",
    "plt.yscale('log')\n",
    "plt.ylabel('Population');"
   ]
  },
  {
   "cell_type": "markdown",
   "metadata": {},
   "source": [
    "9. Is that relationship between population and per-capita GDP different for the first year we have data in the dataset? Plot both first and latest years scatter next to each other in the same figure but different subplots. What can you say about any outliers you see?\n",
    "\n",
    "(*HINT*: First you need to extract another `DataFrame` containing the data from the first year)."
   ]
  },
  {
   "cell_type": "code",
   "execution_count": null,
   "metadata": {},
   "outputs": [],
   "source": [
    "first_year = gm['year'].min()\n",
    "print(first_year)\n",
    "gm_first = gm[gm['year']== first_year]"
   ]
  },
  {
   "cell_type": "code",
   "execution_count": null,
   "metadata": {},
   "outputs": [],
   "source": [
    "plt.figure(figsize=(15,5))\n",
    "\n",
    "plt.subplot(1,2,1)\n",
    "plt.scatter(np.log10(gm_first['gdpPercap']), gm_first['pop'], marker='.')\n",
    "plt.title('1952')\n",
    "plt.xlabel('Per-Capita GDP (Millions $USD)')\n",
    "plt.yscale('log')\n",
    "plt.ylabel('Population');\n",
    "\n",
    "plt.subplot(1,2,2)\n",
    "plt.scatter(np.log10(gm_latest['gdpPercap']), gm_latest['pop'], marker='.')\n",
    "plt.title('2007')\n",
    "plt.xlabel('Per-Capita GDP (Millions $USD)')\n",
    "plt.yscale('log')\n",
    "plt.ylabel('Population');"
   ]
  },
  {
   "cell_type": "markdown",
   "metadata": {},
   "source": [
    "#### Pandas approach\n",
    "\n",
    "Here are a pair of plots related to (but not directly answering) the above questions, using Pandas methods again."
   ]
  },
  {
   "cell_type": "code",
   "execution_count": null,
   "metadata": {},
   "outputs": [],
   "source": [
    "min_yr = gm.year.min()\n",
    "gm_first_yr = gm[gm.year == min_yr]\n",
    "gm.plot(x = 'gdpPercap', y='pop', kind='scatter', figsize=(10,8))\n",
    "plt.xlabel('GDP per capita')\n",
    "plt.ylabel('Population')\n",
    "plt.title('Population vs. GPD per capita, first year');"
   ]
  },
  {
   "cell_type": "code",
   "execution_count": null,
   "metadata": {},
   "outputs": [],
   "source": [
    "gm.plot(x = 'gdpPercap', y='pop', c='year', cmap='spring', kind='scatter', figsize=(10,8))\n",
    "plt.xlabel('GDP per capita')\n",
    "plt.ylabel('Population')\n",
    "plt.title('Population vs. GPD per capita, across years');"
   ]
  },
  {
   "cell_type": "markdown",
   "metadata": {},
   "source": [
    "10. **\\[OPTIONAL\\]** Above we created a scatter plot between life expectancy and per-capita GDP colored by year. That coloring was done in a continuous way. What if we wanted to color it by decade instead, making a discrete coloring? Run the code cell below to create a new variable called `decades`. Then create another scatter plot of life expectancy vs per-capita GDP assigning the color strings in `hexsix` to data points from each of the six decades in the dataset. "
   ]
  },
  {
   "cell_type": "code",
   "execution_count": null,
   "metadata": {},
   "outputs": [],
   "source": [
    "hexsix = np.array(['#ffffcc', '#d9f0a3', '#addd8e', '#78c679', '#31a354', '#006837'])\n",
    "gm['decade'] = (gm['year'] / 10).astype(int) * 10\n",
    "decades = gm['decade'].unique()\n",
    "decades"
   ]
  },
  {
   "cell_type": "markdown",
   "metadata": {},
   "source": [
    "You could also apply a special temporary kind of function called a `lambda` function to every item in the year column to create the decades. See [here](https://docs.python.org/3/tutorial/controlflow.html#lambda-expressions) for more on lambda functions."
   ]
  },
  {
   "cell_type": "code",
   "execution_count": null,
   "metadata": {},
   "outputs": [],
   "source": [
    "gm['decade'] = gm['year'].apply(lambda x: int(x / 10) * 10)"
   ]
  },
  {
   "cell_type": "code",
   "execution_count": null,
   "metadata": {},
   "outputs": [],
   "source": [
    "for i,cur_decade in enumerate(decades):\n",
    "    cur_decade_gm = gm[gm['decade']==cur_decade]\n",
    "    plt.scatter(np.log10(cur_decade_gm['gdpPercap']), \n",
    "                cur_decade_gm['lifeExp'], \n",
    "                marker='.', \n",
    "                color=hexsix[i], \n",
    "                label=str(cur_decade))\n",
    "plt.legend();"
   ]
  }
 ],
 "metadata": {
  "hide_input": false,
  "kernelspec": {
   "display_name": "Python 3 (ipykernel)",
   "language": "python",
   "name": "python3"
  },
  "language_info": {
   "codemirror_mode": {
    "name": "ipython",
    "version": 3
   },
   "file_extension": ".py",
   "mimetype": "text/x-python",
   "name": "python",
   "nbconvert_exporter": "python",
   "pygments_lexer": "ipython3",
   "version": "3.8.12"
  },
  "toc": {
   "base_numbering": 1,
   "nav_menu": {},
   "number_sections": false,
   "sideBar": true,
   "skip_h1_title": false,
   "title_cell": "Table of Contents",
   "title_sidebar": "Contents",
   "toc_cell": false,
   "toc_position": {
    "height": "calc(100% - 180px)",
    "left": "10px",
    "top": "150px",
    "width": "235px"
   },
   "toc_section_display": true,
   "toc_window_display": true
  },
  "varInspector": {
   "cols": {
    "lenName": 16,
    "lenType": 16,
    "lenVar": 40
   },
   "kernels_config": {
    "python": {
     "delete_cmd_postfix": "",
     "delete_cmd_prefix": "del ",
     "library": "var_list.py",
     "varRefreshCmd": "print(var_dic_list())"
    },
    "r": {
     "delete_cmd_postfix": ") ",
     "delete_cmd_prefix": "rm(",
     "library": "var_list.r",
     "varRefreshCmd": "cat(var_dic_list()) "
    }
   },
   "types_to_exclude": [
    "module",
    "function",
    "builtin_function_or_method",
    "instance",
    "_Feature"
   ],
   "window_display": false
  }
 },
 "nbformat": 4,
 "nbformat_minor": 4
}
