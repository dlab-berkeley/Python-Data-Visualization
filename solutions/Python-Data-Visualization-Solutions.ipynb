{
 "cells": [
  {
   "cell_type": "markdown",
   "metadata": {},
   "source": [
    "# Data Visualization using Python: Solutions"
   ]
  },
  {
   "cell_type": "markdown",
   "metadata": {},
   "source": [
    "## Import Packages"
   ]
  },
  {
   "cell_type": "code",
   "execution_count": null,
   "metadata": {},
   "outputs": [],
   "source": [
    "import numpy as np\n",
    "import pandas as pd\n",
    "import matplotlib as mpl\n",
    "import matplotlib.pyplot as plt\n",
    "\n"
   ]
  },
  {
   "cell_type": "markdown",
   "metadata": {},
   "source": [
    "## Import the Data Set"
   ]
  },
  {
   "cell_type": "code",
   "execution_count": null,
   "metadata": {},
   "outputs": [],
   "source": [
    "gm = pd.read_csv('../data/gapminder.tsv', sep='\\t')"
   ]
  },
  {
   "cell_type": "markdown",
   "metadata": {},
   "source": [
    "### Challenge 1: Make a histogram for life expectancy\n",
    "Let's create a histogram of life expectancy in the year 2007 in the gapminder data set. The data are already subset for you in the `gm_latest` variable, so your task is to select the appropriate column and make a histogram. Remember to add an informative axis labels and title! Change the `bins=` parameter and find your favorite number of bins for the histogram.\n"
   ]
  },
  {
   "cell_type": "code",
   "execution_count": null,
   "metadata": {},
   "outputs": [],
   "source": [
    "latest_year = gm['year'].max()\n",
    "gm_latest = gm[gm['year'] == latest_year]"
   ]
  },
  {
   "cell_type": "code",
   "execution_count": null,
   "metadata": {},
   "outputs": [],
   "source": [
    "# Try 17 bins\n",
    "plt.hist(gm_latest['lifeExp'], bins=17)\n",
    "plt.title('Distribution of Global Life Expectancy in 2007')\n",
    "plt.xlabel('Life Expectancy (Years)')\n",
    "plt.ylabel('# of Countries');"
   ]
  },
  {
   "cell_type": "code",
   "execution_count": null,
   "metadata": {},
   "outputs": [],
   "source": [
    "# Try 25 bins\n",
    "plt.hist(gm_latest['lifeExp'], bins=25)\n",
    "plt.title('Distribution of Global Life Expectancy in 2007')\n",
    "plt.xlabel('Life Expectancy (Years)')\n",
    "plt.ylabel('# of Countries');"
   ]
  },
  {
   "cell_type": "code",
   "execution_count": null,
   "metadata": {},
   "outputs": [],
   "source": [
    "# Try 10 bins\n",
    "plt.hist(gm_latest['lifeExp'], bins=10)\n",
    "plt.title('Distribution of Global Life Expectancy in 2007')\n",
    "plt.xlabel('Life Expectancy (Years)')\n",
    "plt.ylabel('# of Countries');"
   ]
  },
  {
   "cell_type": "markdown",
   "metadata": {},
   "source": [
    "## Challenge 2: Documentation and Arguments\n",
    "\n",
    "Let's take a look at the [documentation](https://matplotlib.org/stable/api/_as_gen/matplotlib.pyplot.boxplot.html) for the boxplot function. Take a moment to read through the documentation and answer the following questions: \n",
    "\n",
    "1. What does the (orange) line in the middle of the box mean?\n",
    "2. How are outliers determined? How can you change that value? (hint, look at the `whis` argument)\n",
    "3. Let's say you want to flip the boxplot so the boxes are horizontal, not vertical- what argument would you change? Try it out below\n",
    "\n",
    "\n",
    "**Hint:** All of these answers can be found in the documentation, but sometimes it can be more helpful to look at examples or do an internet search-- feel free to use any and all resources!\n"
   ]
  },
  {
   "cell_type": "markdown",
   "metadata": {},
   "source": [
    "**Answer:**\n",
    "1. The median of the distribution\n",
    "2. Determine if the point is outside Q1-1.5 / Q3+1.5. Change the whis argument (default is 1.5) to be more or less generous\n",
    "3. Change `vert` argument to false (see below)"
   ]
  },
  {
   "cell_type": "code",
   "execution_count": null,
   "metadata": {},
   "outputs": [],
   "source": [
    "countries = gm[['country', 'continent']]\n",
    "countries = countries.drop_duplicates()\n",
    "country_counts = countries.groupby('continent', as_index=False).agg('count')\n"
   ]
  },
  {
   "cell_type": "code",
   "execution_count": null,
   "metadata": {},
   "outputs": [],
   "source": [
    "continent_gdp_latest = []\n",
    "for c in country_counts['continent']:\n",
    "    gm_latest_cur_cont = gm_latest[gm_latest['continent'] == c]\n",
    "    cur_gdp_vals = gm_latest_cur_cont['gdpPercap'].values\n",
    "    continent_gdp_latest.append(cur_gdp_vals)"
   ]
  },
  {
   "cell_type": "code",
   "execution_count": null,
   "metadata": {},
   "outputs": [],
   "source": [
    "plt.figure(figsize=(12, 8))\n",
    "plt.boxplot(continent_gdp_latest,vert=False)\n",
    "plt.title('Per-Capita GDP Distributions Per Continent')\n",
    "plt.xlabel('Continents')\n",
    "plt.ylabel('Per-Capita GDP (International Dollars)')\n",
    "plt.yticks(range(1, len(country_counts['continent']) + 1), country_counts['continent']);"
   ]
  },
  {
   "cell_type": "markdown",
   "metadata": {},
   "source": [
    "## Challenge 3: Customizing Markers\n",
    "\n",
    "1. Try at least three different values of alpha below. Which value is your favorite?\n",
    "\n",
    "**Solution:** There are a lot of potential answers, but somewhere <.5 is probably good.\n",
    "\n",
    "2. What other features of the plot might you change to make it more aesthetically pleasing or interpretable? Try out changing some of the other arguments below, or make a list of properties of the plot you would like to change.\n",
    "**Solution:** Some features that can be changed is the `facecolor`, `edgecolor`, `marker`, `s` (size). \n",
    "\n",
    "Below is an example plot:"
   ]
  },
  {
   "cell_type": "code",
   "execution_count": null,
   "metadata": {},
   "outputs": [],
   "source": [
    "plt.scatter(np.log10(gm['gdpPercap']), \n",
    "            gm['lifeExp'], \n",
    "            marker='o',\n",
    "            alpha=.2,\n",
    "            facecolor='SteelBlue',\n",
    "            edgecolor=None,\n",
    "            s = 40)\n",
    "plt.xlabel('Log Per-Capita GDP (International Dollars)')\n",
    "plt.ylabel('Life Expectancy (years)');"
   ]
  },
  {
   "cell_type": "markdown",
   "metadata": {},
   "source": [
    "## Challenge 4: Population and GDP"
   ]
  },
  {
   "cell_type": "markdown",
   "metadata": {},
   "source": [
    "We've seen that life expectancy and per-capita GDP have a positive relationship. Now let's take a look at the relationshp between population and per-capita GDP. Create a scatter plot that compares the two across all countries in 2007. Modify the scatterplot using the parameters we've discussed in the past sections (or other parameters as well!) What is the relationshp between the two variables?\n"
   ]
  },
  {
   "cell_type": "code",
   "execution_count": null,
   "metadata": {
    "scrolled": true
   },
   "outputs": [],
   "source": [
    "plt.scatter(np.log10(gm_latest['gdpPercap']), gm_latest['pop'], marker='.',alpha = .7,s=100)\n",
    "plt.xlabel('Per-Capita GDP (Millions $USD)')\n",
    "plt.yscale('log')\n",
    "plt.ylabel('Population');"
   ]
  },
  {
   "cell_type": "markdown",
   "metadata": {},
   "source": [
    "---\n",
    "### Challenge 5: Customizing a style sheet\n",
    "\n",
    "Now let's explore another plot customization. For the plot below:\n",
    "\n",
    "1. Look at the [documentation](https://matplotlib.org/stable/gallery/style_sheets/style_sheets_reference.html) and pick a style that you find appealing.\n",
    "\n",
    "2. Choose a [colormap](https://matplotlib.org/stable/tutorials/colors/colormaps.html) for the `cmap` parameter.\n",
    "\n",
    "3. Use `rcParams` to customize one (or more) aspects of the style. \n",
    "\n",
    "4. Are there any further changes that you'd like to make and aren't sure how? \n",
    "\n",
    "---"
   ]
  },
  {
   "cell_type": "code",
   "execution_count": null,
   "metadata": {},
   "outputs": [],
   "source": [
    "#set style to 'ggplot'\n",
    "plt.style.use('ggplot')\n",
    "\n",
    "# Change the title font\n",
    "plt.rcParams['font.family'] = 'serif'\n",
    "#increase font size\n",
    "plt.rcParams['font.size'] = 20\n",
    "\n",
    "\n",
    "plt.figure(figsize=(10, 8))\n",
    "plt.scatter(np.log10(gm['gdpPercap']), gm['lifeExp'], marker='.', c=gm['year'], cmap='viridis_r') #modify the cmap here\n",
    "plt.xlabel('$Log_{10}$ Per-Capita GDP (International Dollars)', fontsize=16)\n",
    "plt.ylabel('Life Expectancy (Years)', fontsize=16)\n",
    "\n",
    "#add a colorbar\n",
    "plt.colorbar().set_label('Year', fontsize=16);"
   ]
  },
  {
   "cell_type": "markdown",
   "metadata": {},
   "source": [
    "---\n",
    "### Challenge 6: Exploring Seaborn\n",
    "\n",
    "Let's further customize this plot in a few different ways. (**Hint:** The [documentation](https://seaborn.pydata.org/generated/seaborn.lineplot.html) will be a great resource) \n",
    "\n",
    "1. Redundant contrasts are important for robust, accessible visualizations. Modify this plot to have a second contrast (such as line size, line type) using the `continent` column.\n",
    "\n",
    "2. Let's also modify our plot to use another type of error measurement. Identify the argument to modify error measurement type and try 2-3 different configurations. Which one is your favorite? (**Hint:** Look at the examples at the bottom of the document to see possible error configurations)\n",
    "\n",
    "3. Write down one other modification you might make, either aesthetically or substantively, to the plot. Bonus: What argument would you modify to make that change?\n",
    "---"
   ]
  },
  {
   "cell_type": "code",
   "execution_count": null,
   "metadata": {},
   "outputs": [],
   "source": [
    "import seaborn as sb\n",
    "## Modify the code below to generate your plot\n",
    "plt.figure(figsize=(10, 8))\n",
    "\n",
    "sb.lineplot(data=gm,x='year',y='gdpPercap',hue = 'continent',style = 'continent',err_style='bars',errorbar=('se',1))\n",
    "\n",
    "plt.title('Continent-Level Average GDP Per Capita, by Year')\n",
    "plt.xlabel('Year')\n",
    "plt.ylabel('Average GDP Per Capita')\n",
    "plt.legend(loc='upper left');"
   ]
  },
  {
   "cell_type": "markdown",
   "metadata": {},
   "source": [
    "---\n",
    "### Challenge 7: Exploring new plots in `seaborn`\n",
    "\n",
    "Now that we've covered all of the basics of visualization with Python, now let's do some exploring! One of the benefits of using Python for data visualization is that it can give different angles and insights into the data set. \n",
    "\n",
    "1. Look at the [gallery](https://seaborn.pydata.org/examples/index.html) and choose another plot that you 'd like to try out. It can help to think about what type of information that you'd like to communicate, or choose a plot that you'd like to learn how to use. \n",
    "2. Read the documentation and look at the examples to see how the plot is implemented.\n",
    "3. Visualize some aspect of the gapminder dataset and use `matplotlib` to customize the plot to highlight the most relevant information. Include an informative title and axis labels, if appropriate. Write down a wishlist of any further customizations/adjustments that you would like to make to the visualization.\n",
    "4. What was the most useful resource for learning how to use this plot? What remaining questions do you have?\n",
    "\n",
    "If you aren't sure what plot to use consider `kdeplot` (smoothed histogram), `regplot` (scatterplot with regression), or `jointplot` (bivariate scatterplot + univariate histograms)\n",
    "\n",
    "\n",
    "---\n"
   ]
  },
  {
   "cell_type": "markdown",
   "metadata": {},
   "source": [
    "Gallery of sample plots:"
   ]
  },
  {
   "cell_type": "code",
   "execution_count": null,
   "metadata": {},
   "outputs": [],
   "source": [
    "#kernel density plot\n",
    "plt.figure(figsize=(15, 5))\n",
    "\n",
    "plt.subplot(1, 2, 1)\n",
    "plt.hist(gm_latest['gdpPercap'],bins=50)\n",
    "plt.xlabel('gdpPercap')\n",
    "plt.ylabel(\"# of Countries\")\n",
    "plt.title('Histogram of 2007 GDP')\n",
    "\n",
    "plt.subplot(1, 2, 2)\n",
    "sb.kdeplot(gm_latest['gdpPercap'], shade=True)\n",
    "plt.title('Kernel Density of 2007 GDP');"
   ]
  },
  {
   "cell_type": "code",
   "execution_count": null,
   "metadata": {},
   "outputs": [],
   "source": [
    "#regression plot\n",
    "sb.regplot(x='year', y='lifeExp', data=gm, color='teal')\n",
    "\n",
    "plt.title('Distribution of Life Expectancy, by Year')\n",
    "plt.xlabel('Year')\n",
    "plt.ylabel('Life Expectancy');"
   ]
  },
  {
   "cell_type": "code",
   "execution_count": null,
   "metadata": {},
   "outputs": [],
   "source": [
    "#joint distribution plot\n",
    "sb.jointplot(x=np.log10(gm['gdpPercap']), y=gm['lifeExp'], color=\"#348ABD\", alpha=0.5);"
   ]
  }
 ],
 "metadata": {
  "hide_input": false,
  "kernelspec": {
   "display_name": "Python 3 (ipykernel)",
   "language": "python",
   "name": "python3"
  },
  "language_info": {
   "codemirror_mode": {
    "name": "ipython",
    "version": 3
   },
   "file_extension": ".py",
   "mimetype": "text/x-python",
   "name": "python",
   "nbconvert_exporter": "python",
   "pygments_lexer": "ipython3",
   "version": "3.9.12"
  },
  "toc": {
   "base_numbering": 1,
   "nav_menu": {},
   "number_sections": false,
   "sideBar": true,
   "skip_h1_title": false,
   "title_cell": "Table of Contents",
   "title_sidebar": "Contents",
   "toc_cell": false,
   "toc_position": {
    "height": "calc(100% - 180px)",
    "left": "10px",
    "top": "150px",
    "width": "235px"
   },
   "toc_section_display": true,
   "toc_window_display": true
  },
  "varInspector": {
   "cols": {
    "lenName": 16,
    "lenType": 16,
    "lenVar": 40
   },
   "kernels_config": {
    "python": {
     "delete_cmd_postfix": "",
     "delete_cmd_prefix": "del ",
     "library": "var_list.py",
     "varRefreshCmd": "print(var_dic_list())"
    },
    "r": {
     "delete_cmd_postfix": ") ",
     "delete_cmd_prefix": "rm(",
     "library": "var_list.r",
     "varRefreshCmd": "cat(var_dic_list()) "
    }
   },
   "types_to_exclude": [
    "module",
    "function",
    "builtin_function_or_method",
    "instance",
    "_Feature"
   ],
   "window_display": false
  }
 },
 "nbformat": 4,
 "nbformat_minor": 4
}
