{
 "cells": [
  {
   "cell_type": "markdown",
   "metadata": {},
   "source": [
    "# Python Data Visualization\n",
    "\n",
    "This workshop will introduce you to how to create beautiful and functional visualizations in Python. We will start with a brief introduction to some key principles of visualization in Python, introduce `matplotlib` and `seaborn` as key packages for data visualization in Python, and explore basic visualizations and ways to customize them.\n",
    "\n",
    "Visualization is meant to convey information.\n",
    "\n",
    "> The power of a graph is its ability to enable one to take in the quantitative information, organize it, and see patterns and structure not readily revealed by other means of studying the data.\n",
    "\n",
    "\\- Cleveland and McGill, 1984\n",
    "\n",
    "Certain techniques make that information easier to interpret and understand. In their 1984 paper titled, \"[Graphical Perception: Theory, Experimentation, and Application to the Development of Graphical Methods](https://www-jstor-org.libproxy.berkeley.edu/stable/2288400?seq=1#page_scan_tab_contents),\" Cleveland and McGill identify 10 elementary perceptual tasks that are used to \"extract quantitative information from graphs.\" Their premise is:\n",
    "\n",
    "> A graphical form that involves elementary perceptual tasks that lead to more accurate judgments than another graphical form (with the same quantitative information) will result in better organization and increase the chances of a correct perception of patterns and behavior.\n",
    "\n",
    "Whereas graph design had, up to that point, been \"largely unscientific,\" Cleveland and McGill took a systematic approach in analyzing human graphical perception through experimentation. Their researched helped identify the most and least accurate elementary perceptual tasks, ordered below:\n",
    "\n",
    "1. Position\n",
    "2. Length, direction, angle\n",
    "3. Area, volume\n",
    "4. Shading, color saturation\n",
    "\n",
    "In 2010, [Heer and Bostock](http://vis.stanford.edu/files/2010-MTurk-CHI.pdf) confirmed these results using Amazon's Mechanical Turk.\n",
    "\n",
    "Let's take a look at a few examples. Because we're only interested in relative sizes, we don't include a legend with size information or reference points.\n",
    "\n",
    "Let's take a look at the circles below- what perceptual property is being used to communicate differences?\n",
    "\n",
    "**Question:** Which value is bigger: E or L? How about L or M?"
   ]
  },
  {
   "cell_type": "markdown",
   "metadata": {},
   "source": [
    "![circles](../images/circles.png)"
   ]
  },
  {
   "cell_type": "markdown",
   "metadata": {},
   "source": [
    "For circles of distinctly different sizes, the comparison is simple. For example, \"A\" is smaller than \"B.\" However, for circles, such as \"L\" and \"M,\" that are almost the same size, it's difficult to tell which is smaller. \n",
    "\n",
    "Now let's look at the same data using another propery - which property is being used below?\n",
    "\n",
    "**Question:** Which value is bigger: E or L? How about L and M?"
   ]
  },
  {
   "cell_type": "markdown",
   "metadata": {},
   "source": [
    "![bars](../images/bars.png)"
   ]
  },
  {
   "cell_type": "markdown",
   "metadata": {},
   "source": [
    "Focusing on \"L\" and \"M,\" it is easier to see which is larger.\n",
    "\n",
    "The way we design plots can also highlight certain properties of the data. For this example, let's suppose we're working with student English and math test scores. Here, we'll use a bar for each student, which we arbitrarily label Z-L. The question is, which bars should we use? This is a case where the answer depends on what we're trying to communicate. \n",
    "\n",
    "One option is to use a **stacked bar chart**.\n",
    "\n",
    "**Question:** Let's compare the overall scores of student S and N - which one has a higher overall score? Now let's compare the math sccore of students S and N - which is higher?"
   ]
  },
  {
   "cell_type": "markdown",
   "metadata": {},
   "source": [
    "![two_bars](../images/two-series-0.png)"
   ]
  },
  {
   "cell_type": "markdown",
   "metadata": {},
   "source": [
    "An alternative version is the 'double-ended bar chart', shown below. Compare S and N in the workshop below: which has a higher math score? Which has a higher overall score?\n",
    "\n",
    "**Question:** If you wanted to communicate overall score, which plot would you use? If comparing individual tests, which would you use?"
   ]
  },
  {
   "cell_type": "markdown",
   "metadata": {},
   "source": [
    "![two_bars_centered](../images/two-series-1.png)"
   ]
  },
  {
   "cell_type": "markdown",
   "metadata": {},
   "source": [
    "## Form and Function\n",
    "\n",
    "A good visualization *reveals* patterns in the data, rather than simply repeating numbers. Often the aesthetics (form) of the visualization serve this goal, but it is important to center the key information communicatated (function). For example, redundant contrasts can make groupings in data more interpretable and more clearly communicated in your visualization. \n",
    "\n",
    "Ultimately, identify your audience and their needs and interests- your visualization should tell a story about your data, and visually highlight the most important information.\n",
    "\n"
   ]
  },
  {
   "cell_type": "markdown",
   "metadata": {},
   "source": [
    "## Visualization in Python:  `matplotlib`"
   ]
  },
  {
   "cell_type": "markdown",
   "metadata": {},
   "source": [
    "Now, we'll start learning how to make visualizations in Python. We'll start by using a popular Python package called `matplotlib` to explore the main basic types of plots and how to make them. `Matplotlib` is the foundation of Python visualization code, so understanding how it functions is key to using other packages effectively as well."
   ]
  },
  {
   "cell_type": "code",
   "execution_count": null,
   "metadata": {},
   "outputs": [],
   "source": [
    "import numpy as np\n",
    "import pandas as pd\n",
    "import matplotlib as mpl\n",
    "import matplotlib.pyplot as plt"
   ]
  },
  {
   "cell_type": "markdown",
   "metadata": {},
   "source": [
    "### Import the data"
   ]
  },
  {
   "cell_type": "markdown",
   "metadata": {},
   "source": [
    "To illustrate these packages, we will use the so-called Gapminder dataset, which was compiled by Jennifer Bryan. This dataset contains several key demographic and economic statistics for many countries, across many years. For more information, see the [gapminder](https://github.com/jennybc/gapminder) repository.\n",
    "\n",
    "We'll use the `pandas` Python package to load the `.csv` (comma separated values) file that contains the dataset. The `pandas` package provides `DataFrame` objects that organize datasets in tabular form (think Microsoft Excel spreadsheets). We've created an alias for the `pandas` package, called `pd`, which is the convention. To read in a `.csv` file we simply use `pd.read_csv`. This `.csv` file happens to be tab-delimited, so we need to specify `sep=\\t`."
   ]
  },
  {
   "cell_type": "code",
   "execution_count": null,
   "metadata": {},
   "outputs": [],
   "source": [
    "gm = pd.read_csv('../data/gapminder.tsv', sep='\\t')"
   ]
  },
  {
   "cell_type": "markdown",
   "metadata": {},
   "source": [
    "`pandas` includes a type of object called a `DataFrame`, which is a tabular data format that comes with methods (or bound functions) that helps us interact with the data. Let's use the `head()` method to look at the first few rows of the data set.\n",
    "\n",
    "**Question:** What does a row represent in the data set?"
   ]
  },
  {
   "cell_type": "code",
   "execution_count": null,
   "metadata": {},
   "outputs": [],
   "source": [
    "gm.head()"
   ]
  },
  {
   "cell_type": "markdown",
   "metadata": {},
   "source": [
    "It looks like we have information about life expectancy (`lifeExp`), population (`pop`) and per-capita GDP (`gdpPercap`), across multiple years per country. \n",
    "\n",
    "To start off, let's say we want to explore the data from the most recent year in the dataset. First we'll find the maximum value for year, and then create a second `DataFrame` containing data from only that year. We'll do that using Boolean Masking (for an introduction on how to use `pandas`, see the DLab's [\"Introduction to Pandas\" workshop](https://github.com/dlab-berkeley/introduction-to-pandas))"
   ]
  },
  {
   "cell_type": "markdown",
   "metadata": {},
   "source": [
    "What is the most recent year in the data set?"
   ]
  },
  {
   "cell_type": "code",
   "execution_count": null,
   "metadata": {},
   "outputs": [],
   "source": [
    "latest_year = gm['year'].max()\n",
    "latest_year"
   ]
  },
  {
   "cell_type": "markdown",
   "metadata": {},
   "source": [
    "Subset the data set to just the latest year using a *boolean mask*."
   ]
  },
  {
   "cell_type": "code",
   "execution_count": null,
   "metadata": {},
   "outputs": [],
   "source": [
    "gm_latest = gm.loc[gm['year'] == latest_year,:]\n",
    "gm_latest.shape"
   ]
  },
  {
   "cell_type": "markdown",
   "metadata": {},
   "source": [
    "Ok, looks like we have 142 values, or rows, across our 6 variables, or columns. Let's get an idea of how per-capita GDP was distributed across all of the countries during 2007 by calculating some **summary statistics**. We'll do that using the `DataFrame`'s `.describe()` method."
   ]
  },
  {
   "cell_type": "code",
   "execution_count": null,
   "metadata": {},
   "outputs": [],
   "source": [
    "gm_latest['gdpPercap'].describe()"
   ]
  },
  {
   "cell_type": "markdown",
   "metadata": {},
   "source": [
    "Across 142 countries the mean GDP was ~\\\\$11680, and the standard deviation was ~\\\\$12860! There was a lot of deviation in GDP across countries, so these summary statistics alone don't give us the whole picture. So now, let's turn to our first basic visualization, the histogram."
   ]
  },
  {
   "cell_type": "markdown",
   "metadata": {},
   "source": [
    "### Histograms\n",
    "\n",
    "Histograms plot the distribution of one variable across its entire range of values. This is an effective visualization for looking at central tendencies (mean, median, mode) and variance.\n",
    "\n",
    "\n",
    "First, we need to get the data in the right shape for this model. Since we are plotting one variable, we need to extract one column from the data frame: "
   ]
  },
  {
   "cell_type": "code",
   "execution_count": null,
   "metadata": {},
   "outputs": [],
   "source": [
    "gm_latest['gdpPercap']"
   ]
  },
  {
   "cell_type": "markdown",
   "metadata": {},
   "source": [
    "Now let's use that with the `matplotlib` function `plt.hist()` to make our first visualization. In `matplotlib` each type of plot has a sepcific function, which contains arguments that allow you customize the function specifically - we will see an example of this in just a moment.\n",
    "\n",
    "**Question:** What does the x and y axis stand for?"
   ]
  },
  {
   "cell_type": "code",
   "execution_count": null,
   "metadata": {},
   "outputs": [],
   "source": [
    "plt.hist(gm_latest['gdpPercap'])"
   ]
  },
  {
   "cell_type": "markdown",
   "metadata": {},
   "source": [
    "This histogram tells us that many of the countries had a low GDP, which was less than 5,000. There is also a second \"bump\" in the histogram around 30,000. This type of distribution is known as **bi-modal**, since there are two modes, or most common values.\n",
    "\n",
    "To make this histogram more interpretable let's add a title and labels for the $x$ and $y$ axes. We'll pass strings to `plt.title()`, `plt.xlabel()`, and `plt.ylabel()` to do so."
   ]
  },
  {
   "cell_type": "code",
   "execution_count": null,
   "metadata": {
    "scrolled": true
   },
   "outputs": [],
   "source": [
    "plt.hist(gm_latest['gdpPercap'])\n",
    "plt.title('Distribution of Global Per-Capita GDP in 2007')\n",
    "plt.xlabel('Per-Capita GDP (International Dollars)')\n",
    "plt.ylabel('# of Countries');"
   ]
  },
  {
   "cell_type": "markdown",
   "metadata": {},
   "source": [
    "`matplotlib` can be thought of as making a visualization from a series of layers. This is achieved by running several lines of code to build a visualization, then displaying it at the end of the block of code. In Jupyter notebook, a good guide is to use one visualization per cell."
   ]
  },
  {
   "cell_type": "markdown",
   "metadata": {},
   "source": [
    "Now back to our our histogram, each bar represents a bin. The height of the bar represents the number of items (countries in this case) within the range of values spanned by the bin. In the last plots we used the default number of bins (10), now let's use more bins by specifying the `bin=30` parameter. This is a unique parameter to the histogram plot."
   ]
  },
  {
   "cell_type": "code",
   "execution_count": null,
   "metadata": {},
   "outputs": [],
   "source": [
    "plt.hist(gm_latest['gdpPercap'], bins=30)\n",
    "plt.title('Distribution of Global Per-Capita GDP in 2007')\n",
    "plt.xlabel('Per-Capita GDP (International Dollars)')\n",
    "plt.ylabel('# of Countries');"
   ]
  },
  {
   "cell_type": "markdown",
   "metadata": {},
   "source": [
    "We can see this histogram doesn't look as \"smooth\" as the last one. There's no \"right\" way to display a histogram, but some bin counts definitely are more informative than others. For example, using only 3 bins we cannot see the bi-modal nature of the GDP distribution."
   ]
  },
  {
   "cell_type": "code",
   "execution_count": null,
   "metadata": {},
   "outputs": [],
   "source": [
    "plt.hist(gm_latest['gdpPercap'], bins=3)\n",
    "plt.title('Distribution of Global Per-Capita GDP in 2007')\n",
    "plt.xlabel('Per-Capita GDP (International Dollars)')\n",
    "plt.ylabel('# of Countries');"
   ]
  },
  {
   "cell_type": "markdown",
   "metadata": {},
   "source": [
    "### Using `pandas` to make plots\n",
    "If you are familiar with `pandas`, you may also be familiar with the `pandas` plot method. \n",
    "\n",
    "These methods' plots are still produced by `matplotlib` on the backend, but can be accessed through `pandas`. The methods often require less code but they also provide less extensive customization. So they impose a **trade-off between convenience and customizability**.\n",
    "\n",
    "Let's take a look at the `pandas` histogram equivalent to that above.\n",
    "Here is the first, using the `DataFrame.hist()` method.\n",
    "\n",
    "**Question:** What are the differences between the plot below and the equivalent plot above?\n"
   ]
  },
  {
   "cell_type": "code",
   "execution_count": null,
   "metadata": {},
   "outputs": [],
   "source": [
    "gm_latest.hist(column='gdpPercap', bins=3);"
   ]
  },
  {
   "cell_type": "markdown",
   "metadata": {},
   "source": [
    "Notice that `pandas` plotting has some default settings and style so if you are trying to recreate a `matplotlib` plot this can take some additional code. We can also tap into all of the same title and labelling functions as in the `matplotlib` version of the histogram"
   ]
  },
  {
   "cell_type": "code",
   "execution_count": null,
   "metadata": {},
   "outputs": [],
   "source": [
    "gm_latest.hist(column='gdpPercap', bins=3, grid=False)\n",
    "plt.title('Distribution of Global Per-Capita GDP in 2007')\n",
    "plt.xlabel('Per-Capita GDP (Millions of USD)')\n",
    "plt.ylabel('# of Countries');"
   ]
  },
  {
   "cell_type": "markdown",
   "metadata": {},
   "source": [
    "---\n",
    "### Challenge 1: Make a histogram for life expectancy\n",
    "\n",
    "Let's create a histogram of life expectancy in the year 2007 in the gapminder data set. The data are already subset for you in the `gm_latest` variable, so your task is to select the appropriate column and make a histogram. Remember to add an informative axis labels and title! Change the `bins=` parameter and find your favorite number of bins for the histogram.\n",
    "\n",
    "---"
   ]
  },
  {
   "cell_type": "code",
   "execution_count": null,
   "metadata": {},
   "outputs": [],
   "source": [
    "gm_latest\n",
    "\n",
    "## YOUR CODE HERE\n",
    "plt.hist(...)"
   ]
  },
  {
   "cell_type": "markdown",
   "metadata": {},
   "source": [
    "### Bar Plots"
   ]
  },
  {
   "cell_type": "markdown",
   "metadata": {},
   "source": [
    "Now let's turn to our second basic plot, a bar plot. A bar plot is used to compare a value for different groups. In this case, we are going to look at the number of countries per continent.\n",
    "\n",
    "The first step is to get a DataFrame that has a row for each continent and a count for the number of countries. To do so we will need to follow a couple of steps. \n",
    "\n",
    "First, we need to change our `DataFrame` so instead of one row per country per year, there is just one row per country. We will do this by using `pd.groupby()` and `nunique` in order to count the number of unique countries per continent."
   ]
  },
  {
   "cell_type": "code",
   "execution_count": null,
   "metadata": {},
   "outputs": [],
   "source": [
    "country_counts = gm[['continent','country']].groupby('continent', as_index=False).agg('nunique')\n",
    "country_counts"
   ]
  },
  {
   "cell_type": "markdown",
   "metadata": {},
   "source": [
    "Now that we have the data we want to visualize, we can plot these data as bars. "
   ]
  },
  {
   "cell_type": "markdown",
   "metadata": {},
   "source": [
    "Making a bar plot in `matplotlib` is done using `plt.bar`. This takes two arguments, the first is the location on the $x$-axis that the bars should appear- typically this is a sequence of integers equal to the number of groups- and the second is the height of each bar on the $y$-axis, which in our case is equal to the `country` column of the `country_count` variable. \n",
    "\n",
    "**Question:** Which continent has the highest number of countries? Where is that represented in the graph?"
   ]
  },
  {
   "cell_type": "code",
   "execution_count": null,
   "metadata": {},
   "outputs": [],
   "source": [
    "x = range(len(country_counts['continent']))\n",
    "y = country_counts['country']\n",
    "plt.bar(x,y)"
   ]
  },
  {
   "cell_type": "markdown",
   "metadata": {},
   "source": [
    "Let's use `plt.xticks()` and the continent names to label the $x$-ticks, which are the text below each bar on the $x$-axis. The `plt.xticks()` function takes two arguments. The first is the *position* for the label and the second is the label itself."
   ]
  },
  {
   "cell_type": "code",
   "execution_count": null,
   "metadata": {
    "scrolled": true
   },
   "outputs": [],
   "source": [
    "plt.bar(x, y)\n",
    "\n",
    "plt.title('Number of Countries per Continent')\n",
    "plt.xticks(x, country_counts['continent']);"
   ]
  },
  {
   "cell_type": "markdown",
   "metadata": {},
   "source": [
    "**Note:** It is common practice to include error bars in bar plots. While it is possible to plot error bars in `matplotlib`, this is more commonly (and simply) done in `seaborn`, which is a package that we will introduce towards the end of the workshop. "
   ]
  },
  {
   "cell_type": "markdown",
   "metadata": {},
   "source": [
    "### Boxplots\n",
    "\n",
    "Now that we know we've seen how GDP was distributed during 2007, and how many countries are in each continent, we might want to know how GDP is distributed within each continent. While we could plot 5 histograms, we can also take advantage of a useful type of plot for just this purpose, a **boxplot**.\n",
    "\n",
    "`plt.boxplot()` creates just that, and can take a *list of arrays* with each array representing a distribution to plot. \n",
    "\n",
    "For `matplotlib` visualizations, it is necessary to transform the `DataFrame` into the appropriate shape for the visualization - In this case since the number of countries in each continent is different, we will create an array for each continent that contains the GDP values of all countries in each continent. In the following cell, we use `pandas` to generate a list of arrays, one per continent."
   ]
  },
  {
   "cell_type": "code",
   "execution_count": null,
   "metadata": {},
   "outputs": [],
   "source": [
    "continent_gdp_latest = []\n",
    "for c in country_counts['continent']:\n",
    "    gm_latest_cur_cont = gm_latest[gm_latest['continent'] == c]\n",
    "    cur_gdp_vals = gm_latest_cur_cont['gdpPercap'].values\n",
    "    continent_gdp_latest.append(cur_gdp_vals)"
   ]
  },
  {
   "cell_type": "code",
   "execution_count": null,
   "metadata": {
    "scrolled": true
   },
   "outputs": [],
   "source": [
    "continent_gdp_latest"
   ]
  },
  {
   "cell_type": "markdown",
   "metadata": {},
   "source": [
    "Now we'll use this list of arrays to make a boxplot. We'll also update the x-ticks, title, and axes labels."
   ]
  },
  {
   "cell_type": "code",
   "execution_count": null,
   "metadata": {},
   "outputs": [],
   "source": [
    "plt.boxplot(continent_gdp_latest)\n",
    "plt.title('Per-Capita GDP Distributions Per Continent')\n",
    "plt.xlabel('Continents')\n",
    "plt.ylabel('Per-Capita GDP (International Dollars)')\n",
    "plt.xticks(range(1, len(country_counts['continent']) + 1), country_counts['continent']);"
   ]
  },
  {
   "cell_type": "markdown",
   "metadata": {},
   "source": [
    "\n",
    "**Question:** What are some features that you notice about this figure?"
   ]
  },
  {
   "cell_type": "markdown",
   "metadata": {},
   "source": [
    "---\n",
    "### Challenge 2: Documentation and Arguments\n",
    "\n",
    "Let's take a look at the [documentation](https://matplotlib.org/stable/api/_as_gen/matplotlib.pyplot.boxplot.html) for the boxplot function. Take a moment to read through the documentation and answer the following questions: \n",
    "\n",
    "1. What does the (orange) line in the middle of the box mean?\n",
    "2. How are outliers determined? How can you change that value? (hint, look at the `whis` argument)\n",
    "3. Let's say you want to flip the boxplot so the boxes are horizontal, not vertical- what argument would you change? Try it out below\n",
    "\n",
    "\n",
    "**Hint:** All of these answers can be found in the documentation, but sometimes it can be more helpful to look at examples or do an internet search-- feel free to use any and all resources!\n",
    "\n",
    "---"
   ]
  },
  {
   "cell_type": "code",
   "execution_count": null,
   "metadata": {},
   "outputs": [],
   "source": [
    "## YOUR CODE HERE"
   ]
  },
  {
   "cell_type": "markdown",
   "metadata": {},
   "source": [
    "### Line Plots"
   ]
  },
  {
   "cell_type": "markdown",
   "metadata": {},
   "source": [
    "Our next type of plot is a line plot, which is often used to show trends. For example, let's say that we're interested in visualizing a single country's per-capita GDP over time. To make things easier, we'll create a second `DataFrame` containing just data from Portugal to look at in this exercise."
   ]
  },
  {
   "cell_type": "code",
   "execution_count": null,
   "metadata": {},
   "outputs": [],
   "source": [
    "portugal = gm[gm['country'] == 'Portugal']"
   ]
  },
  {
   "cell_type": "code",
   "execution_count": null,
   "metadata": {
    "scrolled": false
   },
   "outputs": [],
   "source": [
    "portugal.head()"
   ]
  },
  {
   "cell_type": "markdown",
   "metadata": {},
   "source": [
    "Before we jump into plotting the function let's take another look at the documentation [Plot Types](https://matplotlib.org/stable/plot_types/index.html) to find an example of a line plot - what plot function should we use?"
   ]
  },
  {
   "cell_type": "markdown",
   "metadata": {},
   "source": [
    "Now let's make our line plot."
   ]
  },
  {
   "cell_type": "code",
   "execution_count": null,
   "metadata": {},
   "outputs": [],
   "source": [
    "x = portugal['year']\n",
    "y = portugal['gdpPercap'] \n",
    "plt.plot(x,y)\n",
    "plt.title('Per-capita GDP of Portugal')\n",
    "plt.xlabel('Time (Years)')\n",
    "plt.ylabel('Per-capita GPD (International Dollars)');"
   ]
  },
  {
   "cell_type": "markdown",
   "metadata": {},
   "source": [
    "This plot clearly shows that Portugal's per-capita GDP has been increasing over time. Cool!\n",
    "\n",
    "Let's say we wanted to compare the GDP between Portugal and Spain. We can make a *multi-line* plot by calling `plt.plot()` twice, once on each subset of the data. Let's look at how that visualization will look below. \n",
    "\n",
    "**Note:** This is a case where while it is *possible* to make it with `matplotlib`, and useful for understanding how visualizations are layered, in *practice*, packages like `seaborn` are more often used for making multi-line plots."
   ]
  },
  {
   "cell_type": "code",
   "execution_count": null,
   "metadata": {},
   "outputs": [],
   "source": [
    "spain = gm[gm['country'] == 'Spain']"
   ]
  },
  {
   "cell_type": "markdown",
   "metadata": {},
   "source": [
    "**Question:** In the plots below, which line corresponds to which country? How do you know?"
   ]
  },
  {
   "cell_type": "code",
   "execution_count": null,
   "metadata": {
    "scrolled": true
   },
   "outputs": [],
   "source": [
    "plt.figure(figsize=(12, 5))\n",
    "plt.plot(spain['year'], spain['gdpPercap'])\n",
    "plt.plot(portugal['year'], portugal['gdpPercap'])\n",
    "plt.title('Per-capita GDP of Portugal & Spain')\n",
    "plt.xlabel('Time (Years)')\n",
    "plt.ylabel('Per-capita GPD (International Dollars)');"
   ]
  },
  {
   "cell_type": "markdown",
   "metadata": {},
   "source": [
    "Which line represents which country? To determine that we need a legend. `matplotlib` makes it easy to create a legend. First, we need to add the `label=<country_name>` parameter to the `plt.plot()` functions, then call `plt.legend()`. Let's see it:"
   ]
  },
  {
   "cell_type": "code",
   "execution_count": null,
   "metadata": {},
   "outputs": [],
   "source": [
    "plt.figure(figsize=(12,5))\n",
    "plt.plot(spain['year'], spain['gdpPercap'], label='Spain')\n",
    "plt.plot(portugal['year'], portugal['gdpPercap'], label='Portugal')\n",
    "plt.title('Per-capita GDP of Portugal & Spain')\n",
    "plt.xlabel('Time (Years)')\n",
    "plt.ylabel('Per-capita GPD (International Dollars)')\n",
    "plt.legend();"
   ]
  },
  {
   "cell_type": "markdown",
   "metadata": {},
   "source": [
    "Much better! Now we can compare how these two GDPs change over the time period."
   ]
  },
  {
   "cell_type": "markdown",
   "metadata": {},
   "source": [
    "### Scatter Plots"
   ]
  },
  {
   "cell_type": "markdown",
   "metadata": {},
   "source": [
    "The last basic plot that we will cover in `matplotlib` is the **scatter plot**. This plot is most useful for showing the relationship between two variables.\n",
    "\n",
    "To illustrate this we'll use `plt.scatter()` to visualize the relationship between per capita GDP (`gdpPercap` on the $x$-axis) and life expectancy (`lifeExp`on the $y$-axis) across all countries and all years. Specifying the `marker='.'` argument tells the plot to use small circles to indicate each data point. There are many other marker styles, see [here](https://matplotlib.org/stable/api/markers_api.html) for more.\n",
    "\n",
    "\n",
    "**Question:** How would you describe the relationship between GDP and life expectancy?"
   ]
  },
  {
   "cell_type": "code",
   "execution_count": null,
   "metadata": {},
   "outputs": [],
   "source": [
    "plt.scatter(gm['gdpPercap'], gm['lifeExp'], marker='.')\n",
    "plt.xlabel('Per-Capita GDP (International Dollars)')\n",
    "plt.ylabel('Life Expectancy (years)');"
   ]
  },
  {
   "cell_type": "markdown",
   "metadata": {},
   "source": [
    "### Transformations\n",
    "\n",
    "The above scatter plot has some really large GDP values out to the right of the plot. When dealing with data that have large outliers like this, plotting a transformation of the data can make it more interpretable. A standard transformation is to apply the `log` function, so let's try that here.\n",
    "\n",
    "**Note:** Let's not forget to change the x-axis label to indicate the new units being displayed! "
   ]
  },
  {
   "cell_type": "code",
   "execution_count": null,
   "metadata": {},
   "outputs": [],
   "source": [
    "plt.scatter(np.log10(gm['gdpPercap']), gm['lifeExp'], marker='.')\n",
    "plt.xlabel('Log Per-Capita GDP (International Dollars)')\n",
    "plt.ylabel('Life Expectancy (years)');"
   ]
  },
  {
   "cell_type": "markdown",
   "metadata": {},
   "source": [
    "Now the scatter plot shows that there is somewhat of a linear relationship between the log of GDP and life expectancy. Log transformation is a super common technique for data where there a small number of very large outliers, for example."
   ]
  },
  {
   "cell_type": "markdown",
   "metadata": {},
   "source": [
    "### Transparency\n",
    "\n",
    "Now where points overlap it can be hard to get a clear idea of how many points are in those regions. To fix that we can change the transparency of the markers using the `alpha` parameter. This is a value from `0`-`1`, where `0` is completely transparent (e.g. it's not displayed) and `1` is completely opaque (which is the default seen in the previous plot).\n",
    "\n",
    "And while we're at it we'll change the fill color with the `facecolor` parameter, and the border color of each marker with the `edgecolor` parameter using one of the pre-defined `Matplotlib` colors.\n",
    "\n",
    "For *no* color, use `'None'`. For more information on colors in `Matplotlib` see [the documentation](https://matplotlib.org/stable/api/colors_api.html).\n",
    "\n",
    "A great place to find information on color palettes is [ColorBrewer](http://colorbrewer2.org/). Matt Davis has created a great Python package called [Palettable](https://jiffyclub.github.io/palettable/) that gives you access to the ColorBrewer, Cubehelix, Tableau, and Wes Anderson palettes.\n",
    "\n",
    "We will discuss color in more detail in the following section. In the meantime try a few different  combinations of `edgecolor` and `facecolor` in the cell below."
   ]
  },
  {
   "cell_type": "code",
   "execution_count": null,
   "metadata": {},
   "outputs": [],
   "source": [
    "plt.scatter(np.log10(gm['gdpPercap']), \n",
    "            gm['lifeExp'], \n",
    "            marker='o',\n",
    "            alpha=.75,\n",
    "            facecolor='DarkBlue',\n",
    "            edgecolor='None')\n",
    "plt.xlabel('Log Per-Capita GDP (International Dollars)')\n",
    "plt.ylabel('Life Expectancy (years)');"
   ]
  },
  {
   "cell_type": "markdown",
   "metadata": {},
   "source": [
    "---\n",
    "### Challenge 3: Customizing Markers\n",
    "\n",
    "1. Try at least three different values of alpha below. Which value is your favorite?\n",
    "\n",
    "2. What other features of the plot might you change to make it more aesthetically pleasing or interpretable? Try out changing some of the other arguments below, or make a list of properties of the plot you would like to change.\n",
    "---"
   ]
  },
  {
   "cell_type": "code",
   "execution_count": null,
   "metadata": {},
   "outputs": [],
   "source": [
    "plt.scatter(np.log10(gm['gdpPercap']), \n",
    "            gm['lifeExp'], \n",
    "            marker='o',\n",
    "            alpha=1, #change transparency here\n",
    "            facecolor='DarkBlue',\n",
    "            edgecolor='None')\n",
    "plt.xlabel('Log Per-Capita GDP (International Dollars)')\n",
    "plt.ylabel('Life Expectancy (years)');"
   ]
  },
  {
   "cell_type": "markdown",
   "metadata": {},
   "source": [
    "Now that we've seen that there exists a relationship between GDP and life expectancy at the global scale and across the last 50 years, let's see if we can use similar scatter plots to break that relationship down as a function of both time (year) and location (continent). \n",
    "\n",
    "To do that we'll introduce two new techniques, the use of color and `subplots`."
   ]
  },
  {
   "cell_type": "markdown",
   "metadata": {},
   "source": [
    "### Color"
   ]
  },
  {
   "cell_type": "markdown",
   "metadata": {},
   "source": [
    "   Within a scatter plot, each data point may be assigned a different color depending on it's value in a *numeric* third variable. To do so, we will use the `c` argument the same way that we define `x` or `y` in the plot. There are two ways `c` can be used:\n",
    "   \n",
    "   1. If `c` is a string, it will make all points in the plot that color\n",
    "   2. If `c` is a column of a DataFrame (or similar) it will assign a color to each point according to the **numeric** value of the column.\n",
    "   \n",
    "We'll make the same exact scatter plot as we just did, but add color to represent the year the data comes from. We'll choose the color scheme for the plot by setting the `cmap` (color map) variable.\n"
   ]
  },
  {
   "cell_type": "code",
   "execution_count": null,
   "metadata": {},
   "outputs": [],
   "source": [
    "plt.scatter(np.log10(gm['gdpPercap']), gm['lifeExp'], marker='.', c=gm['year'], cmap = 'hot')\n",
    "plt.xlabel('Log Per-Capita GDP (International Dollars)')\n",
    "plt.ylabel('Life Expectancy (Years)');"
   ]
  },
  {
   "cell_type": "markdown",
   "metadata": {},
   "source": [
    "While we can see there is some sort of trend dependent on color, we don't know what the color values mean. \n",
    "\n",
    "We can use `plt.colorbar()` to add a colorbar which will let us interpret the colors. By adding `.set_label()` to it we can set a textual label describing what the values in the colorbar represent.\n",
    "\n",
    "We'll also increase the figure size, and the font size used in the title, xlabel and ylabel using the `fontsize=16` parameter. We'll also use a form of LaTeX called MathJax to write a subscript 10 underneath the word Log, like this: $\\log_{10}$."
   ]
  },
  {
   "cell_type": "code",
   "execution_count": null,
   "metadata": {},
   "outputs": [],
   "source": [
    "plt.figure(figsize=(10, 8))\n",
    "plt.scatter(np.log10(gm['gdpPercap']), gm['lifeExp'], marker='.', c=gm['year'], cmap='hot')\n",
    "plt.xlabel('$Log_{10}$ Per-Capita GDP (International Dollars)', fontsize=16)\n",
    "plt.ylabel('Life Expectancy (Years)', fontsize=16)\n",
    "\n",
    "#add a colorbar\n",
    "plt.colorbar().set_label('Year', fontsize=16);"
   ]
  },
  {
   "cell_type": "markdown",
   "metadata": {},
   "source": [
    "Ok, now we can see that as time has increased average life expectancy has also increased. Nice! \n",
    "\n",
    "Now let's use `subplots` to break this down even further and see if this trend holds across all continents."
   ]
  },
  {
   "cell_type": "markdown",
   "metadata": {},
   "source": [
    "#### Subplots\n",
    "\n",
    "Subplots allow you to draw multiple plots within a single figure. To do so, you use `plt.subplot(<num_rows>, <num_cols>, <index>)` where the number of rows and columns you want in the figure are specified as the first two parameters, respectively. The `<index>` tells subplot which subplot subsequent calls to `plt` will draw in. It starts at `1` for the top left subplot, and increases across rows, and then down columns. \n",
    "\n",
    "**Note:** `plt.subplot()` uses a 1-based index (not 0-based like Python) to emulate the behavior of the Matlab version of this function. This can cause confusion!!\n",
    "\n",
    "Let's look at a simple example plotting Spain and Portugal's GDP on separate plots next to each other in the same row.\n",
    "\n",
    "**Question:** How does this look different from the multi-line plot above? What information is being highlighted here?"
   ]
  },
  {
   "cell_type": "code",
   "execution_count": null,
   "metadata": {},
   "outputs": [],
   "source": [
    "plt.figure(figsize=(15, 5))\n",
    "plt.subplot(1, 2, 1)\n",
    "plt.plot(spain['year'], spain['gdpPercap'], label='Spain', color='blue')\n",
    "plt.title('Spain')\n",
    "plt.xlabel('Time (Years)')\n",
    "plt.ylabel('Per-capita GPD (International Dollars)')\n",
    "plt.legend();\n",
    "\n",
    "plt.subplot(1, 2, 2)\n",
    "plt.plot(portugal['year'], portugal['gdpPercap'], label='Portugal', color='red')\n",
    "plt.title('Portugal')\n",
    "plt.xlabel('Time (Years)')\n",
    "plt.ylabel('Per-capita GPD (International Dollars)')\n",
    "plt.legend();"
   ]
  },
  {
   "cell_type": "markdown",
   "metadata": {},
   "source": [
    "To set the y-axis values explicitly, we'll use the `vmin` and `vmax` option parameters. Let's see it:"
   ]
  },
  {
   "cell_type": "code",
   "execution_count": null,
   "metadata": {},
   "outputs": [],
   "source": [
    "plt.figure(figsize=(15, 5))\n",
    "plt.subplot(1, 2, 1)\n",
    "plt.plot(spain['year'], spain['gdpPercap'], label='Spain', color='blue')\n",
    "plt.title('Spain')\n",
    "plt.xlabel('Time (Years)')\n",
    "plt.ylabel('Per-capita GPD (International Dollars)')\n",
    "plt.ylim(2500, 30000)\n",
    "plt.legend();\n",
    "\n",
    "plt.subplot(1, 2, 2)\n",
    "plt.plot(portugal['year'], portugal['gdpPercap'], label='Portugal', color='red')\n",
    "plt.title('Portugal')\n",
    "plt.xlabel('Time (Years)')\n",
    "plt.ylabel('Per-capita GPD (International Dollars)')\n",
    "plt.ylim(2500, 30000)\n",
    "plt.legend();"
   ]
  },
  {
   "cell_type": "markdown",
   "metadata": {},
   "source": [
    "---\n",
    "### Challenge 4: Population and GDP\n",
    "\n",
    "We've seen that life expectancy and per-capita GDP have a positive relationship. Now let's take a look at the relationshp between population and per-capita GDP. Create a scatter plot that compares the two across all countries in 2007. Modify the scatterplot using any the parameters we've discussed in the past sections (or other parameters as well!). What is the relationship between the two variables?\n",
    "\n",
    "---"
   ]
  },
  {
   "cell_type": "code",
   "execution_count": null,
   "metadata": {},
   "outputs": [],
   "source": [
    "gm_latest\n",
    "##YOUR CODE HERE"
   ]
  },
  {
   "cell_type": "markdown",
   "metadata": {},
   "source": [
    "## Plot Customization"
   ]
  },
  {
   "cell_type": "markdown",
   "metadata": {},
   "source": [
    "We've already changed several properties of the figures we've made, including the color and opacity of scatter plots, and font sizes for the title and axis label text. However, in cases when we want to apply the same customizations to multiple plots we will want to make those changes once, rather than to every single plot. We can do so by setting the **rc parameters** or default style settings for `matplotlib`.\n",
    "\n",
    "Let's start with the Spain and Portugal multi-line plot from above. First let's generate the default plot again:"
   ]
  },
  {
   "cell_type": "code",
   "execution_count": null,
   "metadata": {},
   "outputs": [],
   "source": [
    "plt.figure(figsize=(15, 5))\n",
    "plt.subplot(1, 2, 1)\n",
    "plt.plot(spain['year'], spain['gdpPercap'], label='Spain', color='blue')\n",
    "plt.title('Spain')\n",
    "plt.xlabel('Time (Years)')\n",
    "plt.ylabel('Per-capita GPD (International Dollars)')\n",
    "plt.ylim(2500, 30000)\n",
    "plt.legend();\n",
    "\n",
    "plt.subplot(1, 2, 2)\n",
    "plt.plot(portugal['year'], portugal['gdpPercap'], label='Portugal', color='red')\n",
    "plt.title('Portugal')\n",
    "plt.xlabel('Time (Years)')\n",
    "plt.ylabel('Per-capita GPD (International Dollars)')\n",
    "plt.ylim(2500, 30000)\n",
    "plt.legend();"
   ]
  },
  {
   "cell_type": "markdown",
   "metadata": {},
   "source": [
    "Now let's change some default rc settings directly using Python code. This will change the settings for the overall Python session - we will see what that means in a moment. The most common starting place is to use a **style sheet** which re-defines the default settings for `matplotlib`\n"
   ]
  },
  {
   "cell_type": "markdown",
   "metadata": {},
   "source": [
    "#### Style Sheets\n",
    "\n",
    "Style sheets are built-in collections of rc parameters that allow for a quick and easy way to get nice looking plots in a particular style. To use a style sheet you simply call the `plt.style.use()` function and give it the name of the style sheet you want to use. The basic `matplotlib` style that you've seen so far in this notebook is called `default`, but there's many other styles to try. Let's take a look at the \"Five Thirty Eight\" style sheet, the name of which you might recognize as Nate Silver's website, of New York Times data visualization fame.\n",
    "\n",
    "For more on style sheets print all available style sheets using `plt.style.available`, or see the ([documentation](https://matplotlib.org/stable/tutorials/introductory/customizing.html))."
   ]
  },
  {
   "cell_type": "code",
   "execution_count": null,
   "metadata": {},
   "outputs": [],
   "source": [
    "plt.style.use('fivethirtyeight')"
   ]
  },
  {
   "cell_type": "markdown",
   "metadata": {},
   "source": [
    "Now we'll use the same code again, and see how it has changed."
   ]
  },
  {
   "cell_type": "code",
   "execution_count": null,
   "metadata": {
    "scrolled": false
   },
   "outputs": [],
   "source": [
    "plt.figure(figsize=(15, 5))\n",
    "plt.subplot(1, 2, 1)\n",
    "plt.plot(spain['year'], spain['gdpPercap'], label='Spain', color='blue')\n",
    "plt.title('Spain')\n",
    "plt.xlabel('Time (Years)')\n",
    "plt.ylabel('Per-capita GPD (International Dollars)')\n",
    "plt.ylim(2500, 30000)\n",
    "plt.legend();\n",
    "\n",
    "plt.subplot(1, 2, 2)\n",
    "plt.plot(portugal['year'], portugal['gdpPercap'], label='Portugal', color='red')\n",
    "plt.title('Portugal')\n",
    "plt.xlabel('Time (Years)')\n",
    "plt.ylabel('Per-capita GPD (International Dollars)')\n",
    "plt.ylim(2500, 30000)\n",
    "plt.legend();"
   ]
  },
  {
   "cell_type": "markdown",
   "metadata": {},
   "source": [
    "While the default style settings are certainly sufficient for exploratory data analysis and visualizing trends in data, one of the best things about plotting with Python is extensive control over the style for more polished figures. Almost every component of the plot can be customized, from color to font type and size, to placement of the legend. And if we want to further fine tune our customization, we can set one or more `rcParams` by hand ourselves.\n",
    "\n",
    "Let's say we like the fivethirtyeight style but we want to remove the bakcground gridlines. We can combine `rcParams` with the fivethirtyeight style to remove the grid in the background, while retaining the other aspects of the style. This means that it can be very efficient to find a style sheet that is close to the desired final product, then tune it to our needs. \n",
    "\n",
    "`rcParams` is a dictionary with the structure *key* = setting name and *value* = setting value. So to set a new parameter we call `plt.rcParams[setting name] = new value`. The trick is knowing the names and values that you want to change- see this handy [guide](https://matplotlib.org/stable/tutorials/introductory/customizing.html) with a description of all the settings you can change, or try an internet search!\n",
    "\n",
    "Now let's turn off the grid in our plot by setting `axis.grid` equal to `False`. Notice that we *don't* need to set the styleshet to `fivethirtyeight` again, because changing the style sheet changes the defaults until the kernel is restarted or the style sheet is set again."
   ]
  },
  {
   "cell_type": "code",
   "execution_count": null,
   "metadata": {},
   "outputs": [],
   "source": [
    "plt.rcParams['axes.grid'] = False\n",
    "\n",
    "\n",
    "plt.figure(figsize=(15, 5))\n",
    "plt.subplot(1, 2, 1)\n",
    "plt.plot(spain['year'], spain['gdpPercap'], label='Spain', color='blue')\n",
    "plt.title('Spain')\n",
    "plt.xlabel('Time (Years)')\n",
    "plt.ylabel('Per-capita GPD (International Dollars)')\n",
    "plt.ylim(2500, 30000)\n",
    "plt.legend();\n",
    "\n",
    "plt.subplot(1, 2, 2)\n",
    "plt.plot(portugal['year'], portugal['gdpPercap'], label='Portugal', color='red')\n",
    "plt.title('Portugal')\n",
    "plt.xlabel('Time (Years)')\n",
    "plt.ylabel('Per-capita GPD (International Dollars)')\n",
    "plt.ylim(2500, 30000)\n",
    "plt.legend();"
   ]
  },
  {
   "cell_type": "markdown",
   "metadata": {},
   "source": [
    "---\n",
    "### Challenge 5: Customizing a style sheet\n",
    "\n",
    "Now let's explore another plot customization. For the plot below:\n",
    "\n",
    "1. Look at the [documentation](https://matplotlib.org/stable/gallery/style_sheets/style_sheets_reference.html) and pick a style that you find appealing.\n",
    "\n",
    "2. Choose a [colormap](https://matplotlib.org/stable/tutorials/colors/colormaps.html) for the `cmap` parameter.\n",
    "\n",
    "3. Use `rcParams` to customize one (or more) aspects of the style. \n",
    "\n",
    "4. Are there any further changes that you'd like to make and aren't sure how? \n",
    "\n",
    "---"
   ]
  },
  {
   "cell_type": "code",
   "execution_count": null,
   "metadata": {},
   "outputs": [],
   "source": [
    "## Choose style sheet\n",
    "\n",
    "## Customize one or more parameters\n",
    "\n",
    "\n",
    "plt.figure(figsize=(10, 8))\n",
    "plt.scatter(np.log10(gm['gdpPercap']), gm['lifeExp'], marker='.', c=gm['year'], cmap='hot') #modify the cmap here\n",
    "plt.xlabel('$Log_{10}$ Per-Capita GDP (International Dollars)', fontsize=16)\n",
    "plt.ylabel('Life Expectancy (Years)', fontsize=16)\n",
    "\n",
    "#add a colorbar\n",
    "plt.colorbar().set_label('Year', fontsize=16);"
   ]
  },
  {
   "cell_type": "markdown",
   "metadata": {},
   "source": [
    "Best practice is to specify any style sheets or parameters at the *top* of your notebook, right after package imports and before you create any visualizations. This helps your code be more replicable."
   ]
  },
  {
   "cell_type": "markdown",
   "metadata": {},
   "source": [
    "## Seaborn"
   ]
  },
  {
   "cell_type": "markdown",
   "metadata": {},
   "source": [
    "Now we will turn to the second major package for visualization, `seaborn`. \n",
    "\n",
    "While `seaborn` also provides convenient and useful style changes over `matplotlib`, it's key benefits come in terms of more complex types of plots, support for statistical analysis (such as regression, error bars), and integration with `pandas`.\n",
    "\n",
    "However all of this functionality is built on the foundation of `matplotlib`, and so understanding that plotting package well is essential to using `seaborn` effectively. A typical visualization will include a `seaborn` base plot, combined with `matplotlib` code for items such as title, etc.\n",
    "\n",
    "Let's try it out!"
   ]
  },
  {
   "cell_type": "code",
   "execution_count": null,
   "metadata": {},
   "outputs": [],
   "source": [
    "import seaborn as sb\n",
    "sb.set(rc={'axes.facecolor' : '#EEEEEE'})"
   ]
  },
  {
   "cell_type": "markdown",
   "metadata": {},
   "source": [
    "The `sns.set()` function is another way to change some of the `rcParams`. Here, we're changing the plot's face color.\n",
    "\n",
    "`seaborn` has the capacity to create a large number of informative, beautiful plots very easily. Here we'll review several types, but please visit their [gallery](https://seaborn.pydata.org/examples/index.html) for a more complete picture of all that you can do with `seaborn`."
   ]
  },
  {
   "cell_type": "markdown",
   "metadata": {},
   "source": [
    "### Boxplots Revisited\n",
    "We previously looked at boxplots in `matplotlib`. Let's now use `seaborn` to look at the distributions of life expectancies separately for each continent. \n",
    "\n",
    "`Seaborn` includes native support for `pandas` data structures. To use it we specify the `DataFrame` we want to take the data from in the `data` parameter. We then specify which column names (or variables) from that `DataFrame` to use for in `x` and `y`. `x` specifies the variable to groupby, and `y` specifies the variable whose distribution should be plotted.\n",
    "\n",
    "We'll plot the continents in alphabetical order by specifying the `order=` parameter, make the box face colors all white using `color='white'`, and disable drawing of the fliers (or outliers) using `fliersize=0`.\n",
    "\n",
    "In addition to the boxplot, we'll plot a **stripplot**, which overlays a scatter plot of all the data points over each box. In combination, they're quite useful for understanding distributions. This takes many of the same parameters as the boxplot did, with the exception of `jitter=True` which causes the scatter markers to be slightly jittered horizontally. "
   ]
  },
  {
   "cell_type": "code",
   "execution_count": null,
   "metadata": {},
   "outputs": [],
   "source": [
    "plt.figure(figsize=(10, 8))\n",
    "\n",
    "sb.boxplot(x=\"continent\", y=\"lifeExp\", data=gm,\n",
    "            order=np.sort(gm.continent.unique()),\n",
    "           color= 'white',fliersize=0)\n",
    "\n",
    "sb.stripplot(x=\"continent\", y=\"lifeExp\", data=gm,\n",
    "              order=np.sort(gm.continent.unique()),\n",
    "              alpha=0.1, size=5, jitter=True,\n",
    "              color = 'black', edgecolor='Black')\n",
    "\n",
    "plt.title(\"Life Expectancy by Continent\")\n",
    "plt.xlabel('Continent')\n",
    "plt.ylabel('Life Expectancy');"
   ]
  },
  {
   "cell_type": "markdown",
   "metadata": {},
   "source": [
    "With just a few lines of code we have a very nice looking plot using `seaborn`. It's possible to create a stripplot using `Matplotlib`, but it's not as easy as it is with `Seaborn`."
   ]
  },
  {
   "cell_type": "markdown",
   "metadata": {},
   "source": [
    "### Lineplots Revisited"
   ]
  },
  {
   "cell_type": "markdown",
   "metadata": {},
   "source": [
    "Now let's go back to look at how `seaborn` can simplify making multi-line plots. Let's return to the GDP by continent over time plot. First let's look at how this plot was generated in `matplotlib`. \n",
    "\n",
    "**Question:** How many times did `plot` get called in the below code chunk?"
   ]
  },
  {
   "cell_type": "code",
   "execution_count": null,
   "metadata": {
    "scrolled": true
   },
   "outputs": [],
   "source": [
    "#calculate the mean gdp by continent by year\n",
    "per_continent_mean_gdp = gm.groupby(['continent', 'year'], as_index=False)['gdpPercap'].mean()\n",
    "\n",
    "plt.figure(figsize=(10, 8))\n",
    "#plot one line per continent\n",
    "for continent in gm['continent'].unique():\n",
    "    cur_continent_df = per_continent_mean_gdp[per_continent_mean_gdp['continent'] == continent]\n",
    "    plt.plot(cur_continent_df['year'], \n",
    "             cur_continent_df['gdpPercap'], \n",
    "             alpha=0.75, \n",
    "             label=continent)\n",
    "\n",
    "plt.title('Continent-Level Average GDP Per Capita, by Year')\n",
    "plt.xlabel('Year')\n",
    "plt.ylabel('Average GDP Per Capita')\n",
    "plt.legend(loc='upper left');\n"
   ]
  },
  {
   "cell_type": "markdown",
   "metadata": {},
   "source": [
    "Now let's make the same plot with `seaborn`. The `hue` argument can be used to generate the multiple line part of the plot without needing to plot each line individually. In this case, a column is given the `hue` which tells the program to plot each group in that column in a different color. Behind the scenes, the operations are very similar to the above plot, but this reduces the amount of code that the user needs to write.\n",
    "\n",
    "**Note:** `hue` contrasts with the `color` argument which is used to specify a single color for the whole plot rather than a grouping variable"
   ]
  },
  {
   "cell_type": "code",
   "execution_count": null,
   "metadata": {
    "scrolled": false
   },
   "outputs": [],
   "source": [
    "plt.figure(figsize=(10, 8))\n",
    "\n",
    "sb.lineplot(data=gm,x='year',y='gdpPercap',hue = 'continent')\n",
    "\n",
    "plt.title('Continent-Level Average GDP Per Capita, by Year')\n",
    "plt.xlabel('Year')\n",
    "plt.ylabel('Average GDP Per Capita')\n",
    "plt.legend(loc='upper left');"
   ]
  },
  {
   "cell_type": "markdown",
   "metadata": {},
   "source": [
    "The other main difference between this and the previous approach is that there is no need to aggregate the data (i.e. calculate the mean gdp for each year) because `seaborn` does this for us, including calculating error automatically. We can also control the parameters for this plot with arguments for `estimator` (aggregation function) and `errorbar` (error estimation). "
   ]
  },
  {
   "cell_type": "markdown",
   "metadata": {},
   "source": [
    "---\n",
    "### Challenge 6: Exploring Seaborn \n",
    "\n",
    "Let's further customize this plot in a few different ways. (**Hint:** The [documentation](https://seaborn.pydata.org/generated/seaborn.lineplot.html) will be a great resource) \n",
    "\n",
    "1. Redundant contrasts are important for robust, accessible visualizations. Modify this plot to have a second contrast in addition to color (such as line size, line type) using the `continent` column.\n",
    "\n",
    "2. Let's also modify our plot to use another type of error measurement. Identify the argument to modify error measurement type and try 2-3 different configurations. Which one is your favorite? (**Hint:** Look at the examples at the bottom of the documentation to see possible error configurations)\n",
    "\n",
    "3. Write down one other modification you might make, either aesthetically or substantively, to the plot. **Bonus:** What argument would you modify to make that change?\n",
    "---"
   ]
  },
  {
   "cell_type": "code",
   "execution_count": null,
   "metadata": {},
   "outputs": [],
   "source": [
    "## Modify the code below to generate your plot\n",
    "\n",
    "sb.lineplot(data=gm,x='year',y='gdpPercap',hue = 'continent')\n",
    "\n",
    "plt.title('Continent-Level Average GDP Per Capita, by Year')\n",
    "plt.xlabel('Year')\n",
    "plt.ylabel('Average GDP Per Capita')\n",
    "plt.legend(loc='upper left');"
   ]
  },
  {
   "cell_type": "markdown",
   "metadata": {},
   "source": [
    "### Other plots with `seaborn`\n",
    "\n",
    "`Seaborn` also offers many  types of plots that are based on the basic visualizations that we've explored up until now in this workshop. A key skill for using `seaborn` is to identify what you want to visualize and the appropriate plot to use to do so. \n",
    "\n",
    "Let's say that we have three numeric variables and are interested in looking at the relationship / potential correlations between each pair of variables.\n",
    "\n",
    "**Question:** What basic would you use to do this? How many times would `subplot` be called?\n",
    "\n",
    "We can also take a look at the `seaborn` [gallery](https://seaborn.pydata.org/examples/index.html) to identify a plot that might help us make this plot easier. In this case let's try out the [`pairplot`](https://seaborn.pydata.org/generated/seaborn.pairplot.html#seaborn.pairplot). Let's try it out on the `gm_latest` (data from all countries for 2007)"
   ]
  },
  {
   "cell_type": "code",
   "execution_count": null,
   "metadata": {
    "scrolled": true
   },
   "outputs": [],
   "source": [
    "sb.pairplot(gm_latest)"
   ]
  },
  {
   "cell_type": "markdown",
   "metadata": {},
   "source": [
    "This is pretty close, except since we subset the data to just one year, the `year` column isn't as informative. So let's plot it again, but drop the year column. Let's also color our points by continent to add more infomration to the plot."
   ]
  },
  {
   "cell_type": "code",
   "execution_count": null,
   "metadata": {
    "scrolled": true
   },
   "outputs": [],
   "source": [
    "sb.pairplot(gm_latest.drop(['year'],axis=1),hue='continent')"
   ]
  },
  {
   "cell_type": "markdown",
   "metadata": {},
   "source": [
    "Using `pairplot()` reduced the code we need for generating this plot by many lines, but the same result can also be achieved by using `scatterplot` + `kdeplot` (a close relative of `histogram`) + `subplot`. Most plots are variations of or based on the basic plots discussed above."
   ]
  },
  {
   "cell_type": "markdown",
   "metadata": {},
   "source": [
    "---\n",
    "### Challenge 7: Exploring new plots in `seaborn`\n",
    "\n",
    "Now that we've covered all of the basics of visualization with Python, now let's do some exploring! One of the benefits of using Python for data visualization is that it can give different angles and insights into the data set. \n",
    "\n",
    "1. Look at the [gallery](https://seaborn.pydata.org/examples/index.html) and choose another plot that you 'd like to try out. It can help to think about what type of information that you'd like to communicate, or choose a plot that you'd like to learn how to use. \n",
    "2. Read the documentation and look at the examples to see how the plot is implemented.\n",
    "3. Visualize some aspect of the gapminder dataset and use `matplotlib` to customize the plot to highlight the most relevant information. Include an informative title and axis labels, if appropriate. Write down a wishlist of any further customizations/adjustments that you would like to make to the visualization.\n",
    "4. What was the most useful resource for learning how to use this plot? What remaining questions do you have?\n",
    "\n",
    "If you aren't sure what plot to use consider `kdeplot` (smoothed histogram), `regplot` (scatterplot with regression), or `jointplot` (bivariate scatterplot + univariate histograms)\n",
    "\n",
    "\n",
    "---\n"
   ]
  },
  {
   "cell_type": "code",
   "execution_count": null,
   "metadata": {},
   "outputs": [],
   "source": [
    "# YOUR CODE HERE"
   ]
  },
  {
   "cell_type": "markdown",
   "metadata": {},
   "source": [
    "## Saving Plots"
   ]
  },
  {
   "cell_type": "markdown",
   "metadata": {},
   "source": [
    "Finally, if you'd like to save a plot you can use the `plt.savefig` function that is part of the matplotlib package. This will create an image file saved to wherever you specify. Running the cell below will save the plot as `facetgrid_graph.png` within your current directory. Refer to `help(plt.savefig)` for more documentation on this function."
   ]
  },
  {
   "cell_type": "code",
   "execution_count": null,
   "metadata": {},
   "outputs": [],
   "source": [
    "sb.relplot(x='year', \n",
    "            y='gdpPercap', \n",
    "            hue='continent',\n",
    "            col='continent', \n",
    "            col_wrap=3, \n",
    "            legend=None,\n",
    "            kind='line',\n",
    "            facet_kws={'sharex':False},\n",
    "            data=per_continent_mean_gdp);\n",
    "plt.savefig('facetgrid_graph.png')"
   ]
  },
  {
   "cell_type": "markdown",
   "metadata": {},
   "source": [
    "## Going further"
   ]
  },
  {
   "cell_type": "markdown",
   "metadata": {},
   "source": [
    "There are many visualization libraries in Python and you now have experience in using two popular ones.\n",
    "\n",
    "Several other Python visualization libraries exist for creating *interactive* visualizations such as [Plotly](https://plot.ly/python/), [Bokeh](http://bokeh.pydata.org/en/latest/), or [Toyplot](http://toyplot.readthedocs.org/en/stable/tutorial.html#getting-started)."
   ]
  }
 ],
 "metadata": {
  "hide_input": false,
  "kernelspec": {
   "display_name": "Python 3 (ipykernel)",
   "language": "python",
   "name": "python3"
  },
  "language_info": {
   "codemirror_mode": {
    "name": "ipython",
    "version": 3
   },
   "file_extension": ".py",
   "mimetype": "text/x-python",
   "name": "python",
   "nbconvert_exporter": "python",
   "pygments_lexer": "ipython3",
   "version": "3.9.12"
  },
  "toc": {
   "base_numbering": 1,
   "nav_menu": {},
   "number_sections": false,
   "sideBar": true,
   "skip_h1_title": false,
   "title_cell": "Table of Contents",
   "title_sidebar": "Contents",
   "toc_cell": false,
   "toc_position": {
    "height": "calc(100% - 180px)",
    "left": "10px",
    "top": "150px",
    "width": "235px"
   },
   "toc_section_display": true,
   "toc_window_display": true
  },
  "varInspector": {
   "cols": {
    "lenName": 16,
    "lenType": 16,
    "lenVar": 40
   },
   "kernels_config": {
    "python": {
     "delete_cmd_postfix": "",
     "delete_cmd_prefix": "del ",
     "library": "var_list.py",
     "varRefreshCmd": "print(var_dic_list())"
    },
    "r": {
     "delete_cmd_postfix": ") ",
     "delete_cmd_prefix": "rm(",
     "library": "var_list.r",
     "varRefreshCmd": "cat(var_dic_list()) "
    }
   },
   "types_to_exclude": [
    "module",
    "function",
    "builtin_function_or_method",
    "instance",
    "_Feature"
   ],
   "window_display": false
  }
 },
 "nbformat": 4,
 "nbformat_minor": 4
}
